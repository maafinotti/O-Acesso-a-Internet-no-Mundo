{
 "cells": [
  {
   "cell_type": "markdown",
   "metadata": {},
   "source": [
    "#### Importando bibliotecas"
   ]
  },
  {
   "cell_type": "code",
   "execution_count": 2,
   "metadata": {},
   "outputs": [],
   "source": [
    "import pandas as pd\n",
    "import matplotlib.pyplot as plt\n",
    "import geopandas as gpd"
   ]
  },
  {
   "cell_type": "markdown",
   "metadata": {},
   "source": [
    "#### Mesclando o dataset com a geometria dos países"
   ]
  },
  {
   "cell_type": "code",
   "execution_count": 3,
   "metadata": {},
   "outputs": [
    {
     "data": {
      "text/html": [
       "<div>\n",
       "<style scoped>\n",
       "    .dataframe tbody tr th:only-of-type {\n",
       "        vertical-align: middle;\n",
       "    }\n",
       "\n",
       "    .dataframe tbody tr th {\n",
       "        vertical-align: top;\n",
       "    }\n",
       "\n",
       "    .dataframe thead th {\n",
       "        text-align: right;\n",
       "    }\n",
       "</style>\n",
       "<table border=\"1\" class=\"dataframe\">\n",
       "  <thead>\n",
       "    <tr style=\"text-align: right;\">\n",
       "      <th></th>\n",
       "      <th>abreviacao</th>\n",
       "      <th>pais</th>\n",
       "      <th>populacao</th>\n",
       "      <th>rank_populacao</th>\n",
       "      <th>qtd_planos_internet</th>\n",
       "      <th>1GB_preco_medio</th>\n",
       "      <th>1GB_mais_barato</th>\n",
       "      <th>1GB_mais_caro</th>\n",
       "      <th>usuarios_internet</th>\n",
       "      <th>PIB_per_capita</th>\n",
       "      <th>populacao_urbana_%</th>\n",
       "      <th>usuarios_internet_%</th>\n",
       "      <th>rank_usuarios</th>\n",
       "      <th>regiao</th>\n",
       "      <th>grupo_renda</th>\n",
       "    </tr>\n",
       "  </thead>\n",
       "  <tbody>\n",
       "    <tr>\n",
       "      <th>0</th>\n",
       "      <td>CHN</td>\n",
       "      <td>China</td>\n",
       "      <td>1425873641</td>\n",
       "      <td>1</td>\n",
       "      <td>36.0</td>\n",
       "      <td>0.52</td>\n",
       "      <td>0.30</td>\n",
       "      <td>1.21</td>\n",
       "      <td>1010740000</td>\n",
       "      <td>2425.471293</td>\n",
       "      <td>43.10</td>\n",
       "      <td>54.30</td>\n",
       "      <td>116.0</td>\n",
       "      <td>East Asia &amp; Pacific</td>\n",
       "      <td>Upper middle income</td>\n",
       "    </tr>\n",
       "    <tr>\n",
       "      <th>1</th>\n",
       "      <td>IND</td>\n",
       "      <td>India</td>\n",
       "      <td>1418914739</td>\n",
       "      <td>2</td>\n",
       "      <td>58.0</td>\n",
       "      <td>0.68</td>\n",
       "      <td>0.05</td>\n",
       "      <td>2.73</td>\n",
       "      <td>833710000</td>\n",
       "      <td>786.700098</td>\n",
       "      <td>29.54</td>\n",
       "      <td>34.45</td>\n",
       "      <td>145.0</td>\n",
       "      <td>South Asia</td>\n",
       "      <td>Lower middle income</td>\n",
       "    </tr>\n",
       "    <tr>\n",
       "      <th>2</th>\n",
       "      <td>USA</td>\n",
       "      <td>United States</td>\n",
       "      <td>338573477</td>\n",
       "      <td>3</td>\n",
       "      <td>45.0</td>\n",
       "      <td>3.33</td>\n",
       "      <td>1.00</td>\n",
       "      <td>30.00</td>\n",
       "      <td>312320000</td>\n",
       "      <td>37491.179520</td>\n",
       "      <td>81.70</td>\n",
       "      <td>75.23</td>\n",
       "      <td>68.0</td>\n",
       "      <td>North America</td>\n",
       "      <td>High income</td>\n",
       "    </tr>\n",
       "    <tr>\n",
       "      <th>3</th>\n",
       "      <td>IDN</td>\n",
       "      <td>Indonesia</td>\n",
       "      <td>275818905</td>\n",
       "      <td>4</td>\n",
       "      <td>53.0</td>\n",
       "      <td>0.42</td>\n",
       "      <td>0.17</td>\n",
       "      <td>2.94</td>\n",
       "      <td>196000000</td>\n",
       "      <td>1143.831514</td>\n",
       "      <td>51.46</td>\n",
       "      <td>32.29</td>\n",
       "      <td>150.0</td>\n",
       "      <td>East Asia &amp; Pacific</td>\n",
       "      <td>Lower middle income</td>\n",
       "    </tr>\n",
       "    <tr>\n",
       "      <th>4</th>\n",
       "      <td>PAK</td>\n",
       "      <td>Pakistan</td>\n",
       "      <td>236650690</td>\n",
       "      <td>5</td>\n",
       "      <td>60.0</td>\n",
       "      <td>0.59</td>\n",
       "      <td>0.06</td>\n",
       "      <td>8.59</td>\n",
       "      <td>118800000</td>\n",
       "      <td>668.547943</td>\n",
       "      <td>36.16</td>\n",
       "      <td>30.68</td>\n",
       "      <td>184.0</td>\n",
       "      <td>South Asia</td>\n",
       "      <td>Lower middle income</td>\n",
       "    </tr>\n",
       "  </tbody>\n",
       "</table>\n",
       "</div>"
      ],
      "text/plain": [
       "  abreviacao           pais   populacao  rank_populacao  qtd_planos_internet  \\\n",
       "0        CHN          China  1425873641               1                 36.0   \n",
       "1        IND          India  1418914739               2                 58.0   \n",
       "2        USA  United States   338573477               3                 45.0   \n",
       "3        IDN      Indonesia   275818905               4                 53.0   \n",
       "4        PAK       Pakistan   236650690               5                 60.0   \n",
       "\n",
       "   1GB_preco_medio  1GB_mais_barato  1GB_mais_caro  usuarios_internet  \\\n",
       "0             0.52             0.30           1.21         1010740000   \n",
       "1             0.68             0.05           2.73          833710000   \n",
       "2             3.33             1.00          30.00          312320000   \n",
       "3             0.42             0.17           2.94          196000000   \n",
       "4             0.59             0.06           8.59          118800000   \n",
       "\n",
       "   PIB_per_capita  populacao_urbana_%  usuarios_internet_%  rank_usuarios  \\\n",
       "0     2425.471293               43.10                54.30          116.0   \n",
       "1      786.700098               29.54                34.45          145.0   \n",
       "2    37491.179520               81.70                75.23           68.0   \n",
       "3     1143.831514               51.46                32.29          150.0   \n",
       "4      668.547943               36.16                30.68          184.0   \n",
       "\n",
       "                regiao          grupo_renda  \n",
       "0  East Asia & Pacific  Upper middle income  \n",
       "1           South Asia  Lower middle income  \n",
       "2        North America          High income  \n",
       "3  East Asia & Pacific  Lower middle income  \n",
       "4           South Asia  Lower middle income  "
      ]
     },
     "execution_count": 3,
     "metadata": {},
     "output_type": "execute_result"
    }
   ],
   "source": [
    "data = pd.read_csv('dataset_tratado.csv')\n",
    "data.head()"
   ]
  },
  {
   "cell_type": "code",
   "execution_count": 4,
   "metadata": {},
   "outputs": [],
   "source": [
    "df = gpd.read_file(r'datasets\\UIA_Latitude_Longitude_Graticules_and_World_Countries_Boundaries.geojson')"
   ]
  },
  {
   "cell_type": "code",
   "execution_count": 5,
   "metadata": {},
   "outputs": [
    {
     "data": {
      "text/html": [
       "<div>\n",
       "<style scoped>\n",
       "    .dataframe tbody tr th:only-of-type {\n",
       "        vertical-align: middle;\n",
       "    }\n",
       "\n",
       "    .dataframe tbody tr th {\n",
       "        vertical-align: top;\n",
       "    }\n",
       "\n",
       "    .dataframe thead th {\n",
       "        text-align: right;\n",
       "    }\n",
       "</style>\n",
       "<table border=\"1\" class=\"dataframe\">\n",
       "  <thead>\n",
       "    <tr style=\"text-align: right;\">\n",
       "      <th></th>\n",
       "      <th>OBJECTID</th>\n",
       "      <th>pais</th>\n",
       "      <th>geometry</th>\n",
       "    </tr>\n",
       "  </thead>\n",
       "  <tbody>\n",
       "    <tr>\n",
       "      <th>0</th>\n",
       "      <td>1</td>\n",
       "      <td>Aruba</td>\n",
       "      <td>POLYGON ((-69.88223 12.41111, -69.94695 12.436...</td>\n",
       "    </tr>\n",
       "    <tr>\n",
       "      <th>1</th>\n",
       "      <td>2</td>\n",
       "      <td>Antigua and Barbuda</td>\n",
       "      <td>MULTIPOLYGON (((-61.73889 17.54055, -61.75195 ...</td>\n",
       "    </tr>\n",
       "    <tr>\n",
       "      <th>2</th>\n",
       "      <td>3</td>\n",
       "      <td>Afghanistan</td>\n",
       "      <td>POLYGON ((61.27656 35.60725, 61.29638 35.62853...</td>\n",
       "    </tr>\n",
       "    <tr>\n",
       "      <th>3</th>\n",
       "      <td>4</td>\n",
       "      <td>Algeria</td>\n",
       "      <td>POLYGON ((-5.15213 30.18047, -5.13917 30.19236...</td>\n",
       "    </tr>\n",
       "    <tr>\n",
       "      <th>4</th>\n",
       "      <td>5</td>\n",
       "      <td>Azerbaijan</td>\n",
       "      <td>MULTIPOLYGON (((45.02583 41.03055, 45.00999 41...</td>\n",
       "    </tr>\n",
       "  </tbody>\n",
       "</table>\n",
       "</div>"
      ],
      "text/plain": [
       "   OBJECTID                 pais  \\\n",
       "0         1                Aruba   \n",
       "1         2  Antigua and Barbuda   \n",
       "2         3          Afghanistan   \n",
       "3         4              Algeria   \n",
       "4         5           Azerbaijan   \n",
       "\n",
       "                                            geometry  \n",
       "0  POLYGON ((-69.88223 12.41111, -69.94695 12.436...  \n",
       "1  MULTIPOLYGON (((-61.73889 17.54055, -61.75195 ...  \n",
       "2  POLYGON ((61.27656 35.60725, 61.29638 35.62853...  \n",
       "3  POLYGON ((-5.15213 30.18047, -5.13917 30.19236...  \n",
       "4  MULTIPOLYGON (((45.02583 41.03055, 45.00999 41...  "
      ]
     },
     "execution_count": 5,
     "metadata": {},
     "output_type": "execute_result"
    }
   ],
   "source": [
    "df = df.rename(columns = {'CNTRY_NAME': 'pais'})\n",
    "df.head()"
   ]
  },
  {
   "cell_type": "code",
   "execution_count": 6,
   "metadata": {},
   "outputs": [],
   "source": [
    "map_ = pd.merge(df, data, how = 'outer', on = 'pais')"
   ]
  },
  {
   "cell_type": "code",
   "execution_count": 7,
   "metadata": {},
   "outputs": [
    {
     "data": {
      "text/html": [
       "<div>\n",
       "<style scoped>\n",
       "    .dataframe tbody tr th:only-of-type {\n",
       "        vertical-align: middle;\n",
       "    }\n",
       "\n",
       "    .dataframe tbody tr th {\n",
       "        vertical-align: top;\n",
       "    }\n",
       "\n",
       "    .dataframe thead th {\n",
       "        text-align: right;\n",
       "    }\n",
       "</style>\n",
       "<table border=\"1\" class=\"dataframe\">\n",
       "  <thead>\n",
       "    <tr style=\"text-align: right;\">\n",
       "      <th></th>\n",
       "      <th>OBJECTID</th>\n",
       "      <th>pais</th>\n",
       "      <th>geometry</th>\n",
       "      <th>abreviacao</th>\n",
       "      <th>populacao</th>\n",
       "      <th>rank_populacao</th>\n",
       "      <th>qtd_planos_internet</th>\n",
       "      <th>1GB_preco_medio</th>\n",
       "      <th>1GB_mais_barato</th>\n",
       "      <th>1GB_mais_caro</th>\n",
       "      <th>usuarios_internet</th>\n",
       "      <th>PIB_per_capita</th>\n",
       "      <th>populacao_urbana_%</th>\n",
       "      <th>usuarios_internet_%</th>\n",
       "      <th>rank_usuarios</th>\n",
       "      <th>regiao</th>\n",
       "      <th>grupo_renda</th>\n",
       "    </tr>\n",
       "  </thead>\n",
       "  <tbody>\n",
       "    <tr>\n",
       "      <th>0</th>\n",
       "      <td>1.0</td>\n",
       "      <td>Aruba</td>\n",
       "      <td>POLYGON ((-69.88223 12.41111, -69.94695 12.436...</td>\n",
       "      <td>NaN</td>\n",
       "      <td>NaN</td>\n",
       "      <td>NaN</td>\n",
       "      <td>NaN</td>\n",
       "      <td>NaN</td>\n",
       "      <td>NaN</td>\n",
       "      <td>NaN</td>\n",
       "      <td>NaN</td>\n",
       "      <td>NaN</td>\n",
       "      <td>NaN</td>\n",
       "      <td>NaN</td>\n",
       "      <td>NaN</td>\n",
       "      <td>NaN</td>\n",
       "      <td>NaN</td>\n",
       "    </tr>\n",
       "    <tr>\n",
       "      <th>1</th>\n",
       "      <td>2.0</td>\n",
       "      <td>Antigua and Barbuda</td>\n",
       "      <td>MULTIPOLYGON (((-61.73889 17.54055, -61.75195 ...</td>\n",
       "      <td>NaN</td>\n",
       "      <td>NaN</td>\n",
       "      <td>NaN</td>\n",
       "      <td>NaN</td>\n",
       "      <td>NaN</td>\n",
       "      <td>NaN</td>\n",
       "      <td>NaN</td>\n",
       "      <td>NaN</td>\n",
       "      <td>NaN</td>\n",
       "      <td>NaN</td>\n",
       "      <td>NaN</td>\n",
       "      <td>NaN</td>\n",
       "      <td>NaN</td>\n",
       "      <td>NaN</td>\n",
       "    </tr>\n",
       "    <tr>\n",
       "      <th>2</th>\n",
       "      <td>3.0</td>\n",
       "      <td>Afghanistan</td>\n",
       "      <td>POLYGON ((61.27656 35.60725, 61.29638 35.62853...</td>\n",
       "      <td>AFG</td>\n",
       "      <td>41325562.0</td>\n",
       "      <td>36.0</td>\n",
       "      <td>35.0</td>\n",
       "      <td>1.02</td>\n",
       "      <td>0.38</td>\n",
       "      <td>2.12</td>\n",
       "      <td>4068194.0</td>\n",
       "      <td>NaN</td>\n",
       "      <td>24.04</td>\n",
       "      <td>11.45</td>\n",
       "      <td>194.0</td>\n",
       "      <td>South Asia</td>\n",
       "      <td>Low income</td>\n",
       "    </tr>\n",
       "    <tr>\n",
       "      <th>3</th>\n",
       "      <td>4.0</td>\n",
       "      <td>Algeria</td>\n",
       "      <td>POLYGON ((-5.15213 30.18047, -5.13917 30.19236...</td>\n",
       "      <td>DZA</td>\n",
       "      <td>45032322.0</td>\n",
       "      <td>34.0</td>\n",
       "      <td>20.0</td>\n",
       "      <td>0.51</td>\n",
       "      <td>0.16</td>\n",
       "      <td>2.24</td>\n",
       "      <td>26350000.0</td>\n",
       "      <td>2231.993335</td>\n",
       "      <td>65.22</td>\n",
       "      <td>47.69</td>\n",
       "      <td>130.0</td>\n",
       "      <td>Middle East &amp; North Africa</td>\n",
       "      <td>Lower middle income</td>\n",
       "    </tr>\n",
       "    <tr>\n",
       "      <th>4</th>\n",
       "      <td>5.0</td>\n",
       "      <td>Azerbaijan</td>\n",
       "      <td>MULTIPOLYGON (((45.02583 41.03055, 45.00999 41...</td>\n",
       "      <td>AZE</td>\n",
       "      <td>10368297.0</td>\n",
       "      <td>91.0</td>\n",
       "      <td>42.0</td>\n",
       "      <td>1.82</td>\n",
       "      <td>0.24</td>\n",
       "      <td>9.80</td>\n",
       "      <td>7763795.0</td>\n",
       "      <td>2344.896916</td>\n",
       "      <td>51.92</td>\n",
       "      <td>79.00</td>\n",
       "      <td>54.0</td>\n",
       "      <td>Europe &amp; Central Asia</td>\n",
       "      <td>Upper middle income</td>\n",
       "    </tr>\n",
       "  </tbody>\n",
       "</table>\n",
       "</div>"
      ],
      "text/plain": [
       "   OBJECTID                 pais  \\\n",
       "0       1.0                Aruba   \n",
       "1       2.0  Antigua and Barbuda   \n",
       "2       3.0          Afghanistan   \n",
       "3       4.0              Algeria   \n",
       "4       5.0           Azerbaijan   \n",
       "\n",
       "                                            geometry abreviacao   populacao  \\\n",
       "0  POLYGON ((-69.88223 12.41111, -69.94695 12.436...        NaN         NaN   \n",
       "1  MULTIPOLYGON (((-61.73889 17.54055, -61.75195 ...        NaN         NaN   \n",
       "2  POLYGON ((61.27656 35.60725, 61.29638 35.62853...        AFG  41325562.0   \n",
       "3  POLYGON ((-5.15213 30.18047, -5.13917 30.19236...        DZA  45032322.0   \n",
       "4  MULTIPOLYGON (((45.02583 41.03055, 45.00999 41...        AZE  10368297.0   \n",
       "\n",
       "   rank_populacao  qtd_planos_internet  1GB_preco_medio  1GB_mais_barato  \\\n",
       "0             NaN                  NaN              NaN              NaN   \n",
       "1             NaN                  NaN              NaN              NaN   \n",
       "2            36.0                 35.0             1.02             0.38   \n",
       "3            34.0                 20.0             0.51             0.16   \n",
       "4            91.0                 42.0             1.82             0.24   \n",
       "\n",
       "   1GB_mais_caro  usuarios_internet  PIB_per_capita  populacao_urbana_%  \\\n",
       "0            NaN                NaN             NaN                 NaN   \n",
       "1            NaN                NaN             NaN                 NaN   \n",
       "2           2.12          4068194.0             NaN               24.04   \n",
       "3           2.24         26350000.0     2231.993335               65.22   \n",
       "4           9.80          7763795.0     2344.896916               51.92   \n",
       "\n",
       "   usuarios_internet_%  rank_usuarios                      regiao  \\\n",
       "0                  NaN            NaN                         NaN   \n",
       "1                  NaN            NaN                         NaN   \n",
       "2                11.45          194.0                  South Asia   \n",
       "3                47.69          130.0  Middle East & North Africa   \n",
       "4                79.00           54.0       Europe & Central Asia   \n",
       "\n",
       "           grupo_renda  \n",
       "0                  NaN  \n",
       "1                  NaN  \n",
       "2           Low income  \n",
       "3  Lower middle income  \n",
       "4  Upper middle income  "
      ]
     },
     "execution_count": 7,
     "metadata": {},
     "output_type": "execute_result"
    }
   ],
   "source": [
    "map_.head()"
   ]
  },
  {
   "cell_type": "code",
   "execution_count": 8,
   "metadata": {},
   "outputs": [
    {
     "data": {
      "text/plain": [
       "(163, 15)"
      ]
     },
     "execution_count": 8,
     "metadata": {},
     "output_type": "execute_result"
    }
   ],
   "source": [
    "data.shape"
   ]
  },
  {
   "cell_type": "code",
   "execution_count": 9,
   "metadata": {},
   "outputs": [
    {
     "data": {
      "text/plain": [
       "(256, 17)"
      ]
     },
     "execution_count": 9,
     "metadata": {},
     "output_type": "execute_result"
    }
   ],
   "source": [
    "map_.shape"
   ]
  },
  {
   "cell_type": "code",
   "execution_count": 10,
   "metadata": {},
   "outputs": [],
   "source": [
    "pd.set_option('display.max_rows', None)"
   ]
  },
  {
   "cell_type": "markdown",
   "metadata": {},
   "source": [
    "#### PIB"
   ]
  },
  {
   "cell_type": "markdown",
   "metadata": {},
   "source": [
    "##### Adicionando valores manualmente de países faltantes"
   ]
  },
  {
   "cell_type": "code",
   "execution_count": 11,
   "metadata": {},
   "outputs": [
    {
     "name": "stderr",
     "output_type": "stream",
     "text": [
      "C:\\Users\\manoe\\AppData\\Local\\Temp\\ipykernel_26352\\681838699.py:1: SettingWithCopyWarning: \n",
      "A value is trying to be set on a copy of a slice from a DataFrame\n",
      "\n",
      "See the caveats in the documentation: https://pandas.pydata.org/pandas-docs/stable/user_guide/indexing.html#returning-a-view-versus-a-copy\n",
      "  map_['PIB_per_capita'][39] = 518\n"
     ]
    }
   ],
   "source": [
    "map_['PIB_per_capita'][39] = 518"
   ]
  },
  {
   "cell_type": "code",
   "execution_count": 12,
   "metadata": {},
   "outputs": [
    {
     "name": "stderr",
     "output_type": "stream",
     "text": [
      "C:\\Users\\manoe\\AppData\\Local\\Temp\\ipykernel_26352\\3353401686.py:1: SettingWithCopyWarning: \n",
      "A value is trying to be set on a copy of a slice from a DataFrame\n",
      "\n",
      "See the caveats in the documentation: https://pandas.pydata.org/pandas-docs/stable/user_guide/indexing.html#returning-a-view-versus-a-copy\n",
      "  map_['PIB_per_capita'][40] = 1543\n"
     ]
    }
   ],
   "source": [
    "map_['PIB_per_capita'][40] = 1543"
   ]
  },
  {
   "cell_type": "code",
   "execution_count": 13,
   "metadata": {},
   "outputs": [
    {
     "name": "stderr",
     "output_type": "stream",
     "text": [
      "C:\\Users\\manoe\\AppData\\Local\\Temp\\ipykernel_26352\\2029568580.py:1: SettingWithCopyWarning: \n",
      "A value is trying to be set on a copy of a slice from a DataFrame\n",
      "\n",
      "See the caveats in the documentation: https://pandas.pydata.org/pandas-docs/stable/user_guide/indexing.html#returning-a-view-versus-a-copy\n",
      "  map_['PIB_per_capita'][50] = 411\n"
     ]
    }
   ],
   "source": [
    "map_['PIB_per_capita'][50] = 411"
   ]
  },
  {
   "cell_type": "code",
   "execution_count": 14,
   "metadata": {},
   "outputs": [
    {
     "name": "stderr",
     "output_type": "stream",
     "text": [
      "C:\\Users\\manoe\\AppData\\Local\\Temp\\ipykernel_26352\\1970498024.py:1: SettingWithCopyWarning: \n",
      "A value is trying to be set on a copy of a slice from a DataFrame\n",
      "\n",
      "See the caveats in the documentation: https://pandas.pydata.org/pandas-docs/stable/user_guide/indexing.html#returning-a-view-versus-a-copy\n",
      "  map_['PIB_per_capita'][61] = 4086\n"
     ]
    }
   ],
   "source": [
    "map_['PIB_per_capita'][61] = 4086"
   ]
  },
  {
   "cell_type": "code",
   "execution_count": 15,
   "metadata": {},
   "outputs": [
    {
     "name": "stderr",
     "output_type": "stream",
     "text": [
      "C:\\Users\\manoe\\AppData\\Local\\Temp\\ipykernel_26352\\862391008.py:1: SettingWithCopyWarning: \n",
      "A value is trying to be set on a copy of a slice from a DataFrame\n",
      "\n",
      "See the caveats in the documentation: https://pandas.pydata.org/pandas-docs/stable/user_guide/indexing.html#returning-a-view-versus-a-copy\n",
      "  map_['PIB_per_capita'][69] = 8300\n"
     ]
    }
   ],
   "source": [
    "map_['PIB_per_capita'][69] = 8300"
   ]
  },
  {
   "cell_type": "code",
   "execution_count": 16,
   "metadata": {},
   "outputs": [
    {
     "name": "stderr",
     "output_type": "stream",
     "text": [
      "C:\\Users\\manoe\\AppData\\Local\\Temp\\ipykernel_26352\\1063809796.py:1: SettingWithCopyWarning: \n",
      "A value is trying to be set on a copy of a slice from a DataFrame\n",
      "\n",
      "See the caveats in the documentation: https://pandas.pydata.org/pandas-docs/stable/user_guide/indexing.html#returning-a-view-versus-a-copy\n",
      "  map_['PIB_per_capita'][107] = 5333\n"
     ]
    }
   ],
   "source": [
    "map_['PIB_per_capita'][107] = 5333"
   ]
  },
  {
   "cell_type": "code",
   "execution_count": 17,
   "metadata": {},
   "outputs": [
    {
     "name": "stderr",
     "output_type": "stream",
     "text": [
      "C:\\Users\\manoe\\AppData\\Local\\Temp\\ipykernel_26352\\3849649641.py:1: SettingWithCopyWarning: \n",
      "A value is trying to be set on a copy of a slice from a DataFrame\n",
      "\n",
      "See the caveats in the documentation: https://pandas.pydata.org/pandas-docs/stable/user_guide/indexing.html#returning-a-view-versus-a-copy\n",
      "  map_['PIB_per_capita'][121] = 4058\n"
     ]
    }
   ],
   "source": [
    "map_['PIB_per_capita'][121] = 4058"
   ]
  },
  {
   "cell_type": "code",
   "execution_count": 18,
   "metadata": {},
   "outputs": [
    {
     "name": "stderr",
     "output_type": "stream",
     "text": [
      "C:\\Users\\manoe\\AppData\\Local\\Temp\\ipykernel_26352\\1038417671.py:1: SettingWithCopyWarning: \n",
      "A value is trying to be set on a copy of a slice from a DataFrame\n",
      "\n",
      "See the caveats in the documentation: https://pandas.pydata.org/pandas-docs/stable/user_guide/indexing.html#returning-a-view-versus-a-copy\n",
      "  map_['PIB_per_capita'][123] = 32645\n"
     ]
    }
   ],
   "source": [
    "map_['PIB_per_capita'][123] = 32645"
   ]
  },
  {
   "cell_type": "code",
   "execution_count": 19,
   "metadata": {},
   "outputs": [
    {
     "name": "stderr",
     "output_type": "stream",
     "text": [
      "C:\\Users\\manoe\\AppData\\Local\\Temp\\ipykernel_26352\\2469101125.py:1: SettingWithCopyWarning: \n",
      "A value is trying to be set on a copy of a slice from a DataFrame\n",
      "\n",
      "See the caveats in the documentation: https://pandas.pydata.org/pandas-docs/stable/user_guide/indexing.html#returning-a-view-versus-a-copy\n",
      "  map_['PIB_per_capita'][192] = 10220\n"
     ]
    }
   ],
   "source": [
    "map_['PIB_per_capita'][192] = 10220"
   ]
  },
  {
   "cell_type": "code",
   "execution_count": 20,
   "metadata": {},
   "outputs": [
    {
     "name": "stderr",
     "output_type": "stream",
     "text": [
      "C:\\Users\\manoe\\AppData\\Local\\Temp\\ipykernel_26352\\2306846199.py:1: SettingWithCopyWarning: \n",
      "A value is trying to be set on a copy of a slice from a DataFrame\n",
      "\n",
      "See the caveats in the documentation: https://pandas.pydata.org/pandas-docs/stable/user_guide/indexing.html#returning-a-view-versus-a-copy\n",
      "  map_['PIB_per_capita'][225] = 13251\n"
     ]
    }
   ],
   "source": [
    "map_['PIB_per_capita'][225] = 13251"
   ]
  },
  {
   "cell_type": "code",
   "execution_count": 21,
   "metadata": {},
   "outputs": [
    {
     "name": "stderr",
     "output_type": "stream",
     "text": [
      "C:\\Users\\manoe\\AppData\\Local\\Temp\\ipykernel_26352\\3699848215.py:1: SettingWithCopyWarning: \n",
      "A value is trying to be set on a copy of a slice from a DataFrame\n",
      "\n",
      "See the caveats in the documentation: https://pandas.pydata.org/pandas-docs/stable/user_guide/indexing.html#returning-a-view-versus-a-copy\n",
      "  map_['PIB_per_capita'][229] = 1075\n"
     ]
    }
   ],
   "source": [
    "map_['PIB_per_capita'][229] = 1075"
   ]
  },
  {
   "cell_type": "code",
   "execution_count": 22,
   "metadata": {},
   "outputs": [
    {
     "name": "stderr",
     "output_type": "stream",
     "text": [
      "C:\\Users\\manoe\\AppData\\Local\\Temp\\ipykernel_26352\\2409199280.py:1: SettingWithCopyWarning: \n",
      "A value is trying to be set on a copy of a slice from a DataFrame\n",
      "\n",
      "See the caveats in the documentation: https://pandas.pydata.org/pandas-docs/stable/user_guide/indexing.html#returning-a-view-versus-a-copy\n",
      "  map_['PIB_per_capita'][238] = 14025\n"
     ]
    }
   ],
   "source": [
    "map_['PIB_per_capita'][238] = 14025"
   ]
  },
  {
   "cell_type": "code",
   "execution_count": 23,
   "metadata": {},
   "outputs": [
    {
     "name": "stderr",
     "output_type": "stream",
     "text": [
      "C:\\Users\\manoe\\AppData\\Local\\Temp\\ipykernel_26352\\621802374.py:1: SettingWithCopyWarning: \n",
      "A value is trying to be set on a copy of a slice from a DataFrame\n",
      "\n",
      "See the caveats in the documentation: https://pandas.pydata.org/pandas-docs/stable/user_guide/indexing.html#returning-a-view-versus-a-copy\n",
      "  map_['PIB_per_capita'][242] = 4099\n"
     ]
    }
   ],
   "source": [
    "map_['PIB_per_capita'][242] = 4099"
   ]
  },
  {
   "cell_type": "code",
   "execution_count": 24,
   "metadata": {},
   "outputs": [
    {
     "name": "stderr",
     "output_type": "stream",
     "text": [
      "C:\\Users\\manoe\\AppData\\Local\\Temp\\ipykernel_26352\\813768628.py:1: SettingWithCopyWarning: \n",
      "A value is trying to be set on a copy of a slice from a DataFrame\n",
      "\n",
      "See the caveats in the documentation: https://pandas.pydata.org/pandas-docs/stable/user_guide/indexing.html#returning-a-view-versus-a-copy\n",
      "  map_['PIB_per_capita'][110] = 2414\n"
     ]
    }
   ],
   "source": [
    "map_['PIB_per_capita'][110] = 2414"
   ]
  },
  {
   "cell_type": "markdown",
   "metadata": {},
   "source": [
    "##### Retirando os países pequenos com PIBs muito grandes"
   ]
  },
  {
   "cell_type": "code",
   "execution_count": 25,
   "metadata": {},
   "outputs": [
    {
     "name": "stdout",
     "output_type": "stream",
     "text": [
      "Bermuda\n",
      "Liechtenstein\n",
      "Monaco\n"
     ]
    }
   ],
   "source": [
    "for i in range(len(map_)):\n",
    "    if (map_.loc[i, 'PIB_per_capita'] > 60000):\n",
    "        print (map_.loc[i, 'pais'])\n",
    "    else:\n",
    "        None"
   ]
  },
  {
   "cell_type": "code",
   "execution_count": 26,
   "metadata": {},
   "outputs": [
    {
     "data": {
      "text/html": [
       "<div>\n",
       "<style scoped>\n",
       "    .dataframe tbody tr th:only-of-type {\n",
       "        vertical-align: middle;\n",
       "    }\n",
       "\n",
       "    .dataframe tbody tr th {\n",
       "        vertical-align: top;\n",
       "    }\n",
       "\n",
       "    .dataframe thead th {\n",
       "        text-align: right;\n",
       "    }\n",
       "</style>\n",
       "<table border=\"1\" class=\"dataframe\">\n",
       "  <thead>\n",
       "    <tr style=\"text-align: right;\">\n",
       "      <th></th>\n",
       "      <th>OBJECTID</th>\n",
       "      <th>pais</th>\n",
       "      <th>geometry</th>\n",
       "      <th>abreviacao</th>\n",
       "      <th>populacao</th>\n",
       "      <th>rank_populacao</th>\n",
       "      <th>qtd_planos_internet</th>\n",
       "      <th>1GB_preco_medio</th>\n",
       "      <th>1GB_mais_barato</th>\n",
       "      <th>1GB_mais_caro</th>\n",
       "      <th>usuarios_internet</th>\n",
       "      <th>PIB_per_capita</th>\n",
       "      <th>populacao_urbana_%</th>\n",
       "      <th>usuarios_internet_%</th>\n",
       "      <th>rank_usuarios</th>\n",
       "      <th>regiao</th>\n",
       "      <th>grupo_renda</th>\n",
       "    </tr>\n",
       "  </thead>\n",
       "  <tbody>\n",
       "    <tr>\n",
       "      <th>148</th>\n",
       "      <td>148.0</td>\n",
       "      <td>Monaco</td>\n",
       "      <td>POLYGON ((7.39161 43.72755, 7.39090 43.74937, ...</td>\n",
       "      <td>MCO</td>\n",
       "      <td>36469.0</td>\n",
       "      <td>217.0</td>\n",
       "      <td>3.0</td>\n",
       "      <td>1.08</td>\n",
       "      <td>0.84</td>\n",
       "      <td>2.37</td>\n",
       "      <td>37553.0</td>\n",
       "      <td>105147.4377</td>\n",
       "      <td>100.0</td>\n",
       "      <td>97.05</td>\n",
       "      <td>10.0</td>\n",
       "      <td>Europe &amp; Central Asia</td>\n",
       "      <td>High income</td>\n",
       "    </tr>\n",
       "  </tbody>\n",
       "</table>\n",
       "</div>"
      ],
      "text/plain": [
       "     OBJECTID    pais                                           geometry  \\\n",
       "148     148.0  Monaco  POLYGON ((7.39161 43.72755, 7.39090 43.74937, ...   \n",
       "\n",
       "    abreviacao  populacao  rank_populacao  qtd_planos_internet  \\\n",
       "148        MCO    36469.0           217.0                  3.0   \n",
       "\n",
       "     1GB_preco_medio  1GB_mais_barato  1GB_mais_caro  usuarios_internet  \\\n",
       "148             1.08             0.84           2.37            37553.0   \n",
       "\n",
       "     PIB_per_capita  populacao_urbana_%  usuarios_internet_%  rank_usuarios  \\\n",
       "148     105147.4377               100.0                97.05           10.0   \n",
       "\n",
       "                    regiao  grupo_renda  \n",
       "148  Europe & Central Asia  High income  "
      ]
     },
     "execution_count": 26,
     "metadata": {},
     "output_type": "execute_result"
    }
   ],
   "source": [
    "map_.loc[map_.pais == 'Monaco']"
   ]
  },
  {
   "cell_type": "code",
   "execution_count": 27,
   "metadata": {},
   "outputs": [],
   "source": [
    "map_ = map_.drop(148)\n",
    "map_ = map_.drop(18)\n",
    "map_ = map_.drop(134)"
   ]
  },
  {
   "cell_type": "markdown",
   "metadata": {},
   "source": [
    "##### Plotando o mapa"
   ]
  },
  {
   "cell_type": "code",
   "execution_count": 71,
   "metadata": {},
   "outputs": [
    {
     "data": {
      "text/plain": [
       "Text(0.5, 1.0, 'PIB')"
      ]
     },
     "execution_count": 71,
     "metadata": {},
     "output_type": "execute_result"
    },
    {
     "data": {
      "image/png": "[encoded data removed]",
      "text/plain": [
       "<Figure size 1080x576 with 2 Axes>"
      ]
     },
     "metadata": {
      "needs_background": "light"
     },
     "output_type": "display_data"
    }
   ],
   "source": [
    "fig, ax = plt.subplots(figsize = (15,8))\n",
    "sm = plt.cm.ScalarMappable(cmap=\"viridis_r\", norm=plt.Normalize(vmin=map_['PIB_per_capita'].min(), vmax=map_['PIB_per_capita'].max()))\n",
    "cbar = fig.colorbar(sm)\n",
    "map_.plot('PIB_per_capita', ax=ax, cmap=\"viridis_r\")\n",
    "plt.title('PIB', fontsize = \"20\", style = \"italic\", loc = \"center\", pad = 30)"
   ]
  },
  {
   "cell_type": "markdown",
   "metadata": {},
   "source": [
    "#### Usuários de Internet"
   ]
  },
  {
   "cell_type": "markdown",
   "metadata": {},
   "source": [
    "##### Adicionando valores manualmente de países faltantes"
   ]
  },
  {
   "cell_type": "code",
   "execution_count": 29,
   "metadata": {},
   "outputs": [
    {
     "name": "stderr",
     "output_type": "stream",
     "text": [
      "C:\\Users\\manoe\\AppData\\Local\\Temp\\ipykernel_26352\\3927123238.py:1: SettingWithCopyWarning: \n",
      "A value is trying to be set on a copy of a slice from a DataFrame\n",
      "\n",
      "See the caveats in the documentation: https://pandas.pydata.org/pandas-docs/stable/user_guide/indexing.html#returning-a-view-versus-a-copy\n",
      "  map_['usuarios_internet_%'][39] = 12.5\n"
     ]
    }
   ],
   "source": [
    "map_['usuarios_internet_%'][39] = 12.5"
   ]
  },
  {
   "cell_type": "code",
   "execution_count": 30,
   "metadata": {},
   "outputs": [
    {
     "name": "stderr",
     "output_type": "stream",
     "text": [
      "C:\\Users\\manoe\\AppData\\Local\\Temp\\ipykernel_26352\\230054194.py:1: SettingWithCopyWarning: \n",
      "A value is trying to be set on a copy of a slice from a DataFrame\n",
      "\n",
      "See the caveats in the documentation: https://pandas.pydata.org/pandas-docs/stable/user_guide/indexing.html#returning-a-view-versus-a-copy\n",
      "  map_['usuarios_internet_%'][40] = 12.5\n"
     ]
    }
   ],
   "source": [
    "map_['usuarios_internet_%'][40] = 12.5"
   ]
  },
  {
   "cell_type": "code",
   "execution_count": 31,
   "metadata": {},
   "outputs": [
    {
     "name": "stderr",
     "output_type": "stream",
     "text": [
      "C:\\Users\\manoe\\AppData\\Local\\Temp\\ipykernel_26352\\1368462618.py:1: SettingWithCopyWarning: \n",
      "A value is trying to be set on a copy of a slice from a DataFrame\n",
      "\n",
      "See the caveats in the documentation: https://pandas.pydata.org/pandas-docs/stable/user_guide/indexing.html#returning-a-view-versus-a-copy\n",
      "  map_['usuarios_internet_%'][50] = 4\n"
     ]
    }
   ],
   "source": [
    "map_['usuarios_internet_%'][50] = 4"
   ]
  },
  {
   "cell_type": "code",
   "execution_count": 32,
   "metadata": {},
   "outputs": [
    {
     "name": "stderr",
     "output_type": "stream",
     "text": [
      "C:\\Users\\manoe\\AppData\\Local\\Temp\\ipykernel_26352\\1388203402.py:1: SettingWithCopyWarning: \n",
      "A value is trying to be set on a copy of a slice from a DataFrame\n",
      "\n",
      "See the caveats in the documentation: https://pandas.pydata.org/pandas-docs/stable/user_guide/indexing.html#returning-a-view-versus-a-copy\n",
      "  map_['usuarios_internet_%'][61] = 71.9\n"
     ]
    }
   ],
   "source": [
    "map_['usuarios_internet_%'][61] = 71.9"
   ]
  },
  {
   "cell_type": "code",
   "execution_count": 33,
   "metadata": {},
   "outputs": [
    {
     "name": "stderr",
     "output_type": "stream",
     "text": [
      "C:\\Users\\manoe\\AppData\\Local\\Temp\\ipykernel_26352\\3953274622.py:1: SettingWithCopyWarning: \n",
      "A value is trying to be set on a copy of a slice from a DataFrame\n",
      "\n",
      "See the caveats in the documentation: https://pandas.pydata.org/pandas-docs/stable/user_guide/indexing.html#returning-a-view-versus-a-copy\n",
      "  map_['usuarios_internet_%'][69] = 35.7\n"
     ]
    }
   ],
   "source": [
    "map_['usuarios_internet_%'][69] = 35.7"
   ]
  },
  {
   "cell_type": "code",
   "execution_count": 34,
   "metadata": {},
   "outputs": [
    {
     "name": "stderr",
     "output_type": "stream",
     "text": [
      "C:\\Users\\manoe\\AppData\\Local\\Temp\\ipykernel_26352\\111945843.py:1: SettingWithCopyWarning: \n",
      "A value is trying to be set on a copy of a slice from a DataFrame\n",
      "\n",
      "See the caveats in the documentation: https://pandas.pydata.org/pandas-docs/stable/user_guide/indexing.html#returning-a-view-versus-a-copy\n",
      "  map_['usuarios_internet_%'][107] = 84.1\n"
     ]
    }
   ],
   "source": [
    "map_['usuarios_internet_%'][107] = 84.1"
   ]
  },
  {
   "cell_type": "code",
   "execution_count": 35,
   "metadata": {},
   "outputs": [
    {
     "name": "stderr",
     "output_type": "stream",
     "text": [
      "C:\\Users\\manoe\\AppData\\Local\\Temp\\ipykernel_26352\\3313286868.py:1: SettingWithCopyWarning: \n",
      "A value is trying to be set on a copy of a slice from a DataFrame\n",
      "\n",
      "See the caveats in the documentation: https://pandas.pydata.org/pandas-docs/stable/user_guide/indexing.html#returning-a-view-versus-a-copy\n",
      "  map_['usuarios_internet_%'][121] = 0\n"
     ]
    }
   ],
   "source": [
    "map_['usuarios_internet_%'][121] = 0"
   ]
  },
  {
   "cell_type": "code",
   "execution_count": 36,
   "metadata": {},
   "outputs": [
    {
     "name": "stderr",
     "output_type": "stream",
     "text": [
      "C:\\Users\\manoe\\AppData\\Local\\Temp\\ipykernel_26352\\1875242027.py:1: SettingWithCopyWarning: \n",
      "A value is trying to be set on a copy of a slice from a DataFrame\n",
      "\n",
      "See the caveats in the documentation: https://pandas.pydata.org/pandas-docs/stable/user_guide/indexing.html#returning-a-view-versus-a-copy\n",
      "  map_['usuarios_internet_%'][123] = 96.5\n"
     ]
    }
   ],
   "source": [
    "map_['usuarios_internet_%'][123] = 96.5"
   ]
  },
  {
   "cell_type": "code",
   "execution_count": 37,
   "metadata": {},
   "outputs": [
    {
     "name": "stderr",
     "output_type": "stream",
     "text": [
      "C:\\Users\\manoe\\AppData\\Local\\Temp\\ipykernel_26352\\2416488149.py:1: SettingWithCopyWarning: \n",
      "A value is trying to be set on a copy of a slice from a DataFrame\n",
      "\n",
      "See the caveats in the documentation: https://pandas.pydata.org/pandas-docs/stable/user_guide/indexing.html#returning-a-view-versus-a-copy\n",
      "  map_['usuarios_internet_%'][192] = 85\n"
     ]
    }
   ],
   "source": [
    "map_['usuarios_internet_%'][192] = 85"
   ]
  },
  {
   "cell_type": "code",
   "execution_count": 38,
   "metadata": {},
   "outputs": [
    {
     "name": "stderr",
     "output_type": "stream",
     "text": [
      "C:\\Users\\manoe\\AppData\\Local\\Temp\\ipykernel_26352\\2127573568.py:1: SettingWithCopyWarning: \n",
      "A value is trying to be set on a copy of a slice from a DataFrame\n",
      "\n",
      "See the caveats in the documentation: https://pandas.pydata.org/pandas-docs/stable/user_guide/indexing.html#returning-a-view-versus-a-copy\n",
      "  map_['usuarios_internet_%'][225] = 77.7\n"
     ]
    }
   ],
   "source": [
    "map_['usuarios_internet_%'][225] = 77.7"
   ]
  },
  {
   "cell_type": "code",
   "execution_count": 39,
   "metadata": {},
   "outputs": [
    {
     "name": "stderr",
     "output_type": "stream",
     "text": [
      "C:\\Users\\manoe\\AppData\\Local\\Temp\\ipykernel_26352\\2030712106.py:1: SettingWithCopyWarning: \n",
      "A value is trying to be set on a copy of a slice from a DataFrame\n",
      "\n",
      "See the caveats in the documentation: https://pandas.pydata.org/pandas-docs/stable/user_guide/indexing.html#returning-a-view-versus-a-copy\n",
      "  map_['usuarios_internet_%'][229] = 20\n"
     ]
    }
   ],
   "source": [
    "map_['usuarios_internet_%'][229] = 20"
   ]
  },
  {
   "cell_type": "code",
   "execution_count": 40,
   "metadata": {},
   "outputs": [
    {
     "name": "stderr",
     "output_type": "stream",
     "text": [
      "C:\\Users\\manoe\\AppData\\Local\\Temp\\ipykernel_26352\\3203128299.py:1: SettingWithCopyWarning: \n",
      "A value is trying to be set on a copy of a slice from a DataFrame\n",
      "\n",
      "See the caveats in the documentation: https://pandas.pydata.org/pandas-docs/stable/user_guide/indexing.html#returning-a-view-versus-a-copy\n",
      "  map_['usuarios_internet_%'][238] = 57\n"
     ]
    }
   ],
   "source": [
    "map_['usuarios_internet_%'][238] = 57"
   ]
  },
  {
   "cell_type": "code",
   "execution_count": 41,
   "metadata": {},
   "outputs": [
    {
     "name": "stderr",
     "output_type": "stream",
     "text": [
      "C:\\Users\\manoe\\AppData\\Local\\Temp\\ipykernel_26352\\4089749344.py:1: SettingWithCopyWarning: \n",
      "A value is trying to be set on a copy of a slice from a DataFrame\n",
      "\n",
      "See the caveats in the documentation: https://pandas.pydata.org/pandas-docs/stable/user_guide/indexing.html#returning-a-view-versus-a-copy\n",
      "  map_['usuarios_internet_%'][242] = 40.5\n"
     ]
    }
   ],
   "source": [
    "map_['usuarios_internet_%'][242] = 40.5"
   ]
  },
  {
   "cell_type": "code",
   "execution_count": 42,
   "metadata": {},
   "outputs": [
    {
     "name": "stderr",
     "output_type": "stream",
     "text": [
      "C:\\Users\\manoe\\AppData\\Local\\Temp\\ipykernel_26352\\3861641813.py:1: SettingWithCopyWarning: \n",
      "A value is trying to be set on a copy of a slice from a DataFrame\n",
      "\n",
      "See the caveats in the documentation: https://pandas.pydata.org/pandas-docs/stable/user_guide/indexing.html#returning-a-view-versus-a-copy\n",
      "  map_['usuarios_internet_%'][110] = 36.3\n"
     ]
    }
   ],
   "source": [
    "map_['usuarios_internet_%'][110] = 36.3"
   ]
  },
  {
   "cell_type": "markdown",
   "metadata": {},
   "source": [
    "##### Plotando o mapa"
   ]
  },
  {
   "cell_type": "code",
   "execution_count": 73,
   "metadata": {},
   "outputs": [
    {
     "data": {
      "text/plain": [
       "Text(0.5, 1.0, 'Usuários Conectados à Internet (%)')"
      ]
     },
     "execution_count": 73,
     "metadata": {},
     "output_type": "execute_result"
    },
    {
     "data": {
      "image/png": "[encoded data removed]",
      "text/plain": [
       "<Figure size 1080x576 with 2 Axes>"
      ]
     },
     "metadata": {
      "needs_background": "light"
     },
     "output_type": "display_data"
    }
   ],
   "source": [
    "fig, ax = plt.subplots(figsize = (15,8))\n",
    "sm = plt.cm.ScalarMappable(cmap=\"viridis_r\", norm=plt.Normalize(vmin=map_['usuarios_internet_%'].min(), vmax=map_['usuarios_internet_%'].max()))\n",
    "cbar = fig.colorbar(sm)\n",
    "map_.plot('usuarios_internet_%', ax=ax, cmap=\"viridis_r\")\n",
    "plt.title('Usuários Conectados à Internet (%)', fontsize = \"20\", style = \"italic\", loc = \"center\", pad = 30)"
   ]
  },
  {
   "cell_type": "markdown",
   "metadata": {},
   "source": [
    "##### Adicionando valores manualmente de países faltantes"
   ]
  },
  {
   "cell_type": "code",
   "execution_count": 44,
   "metadata": {},
   "outputs": [
    {
     "name": "stderr",
     "output_type": "stream",
     "text": [
      "C:\\Users\\manoe\\AppData\\Local\\Temp\\ipykernel_26352\\2073428320.py:1: SettingWithCopyWarning: \n",
      "A value is trying to be set on a copy of a slice from a DataFrame\n",
      "\n",
      "See the caveats in the documentation: https://pandas.pydata.org/pandas-docs/stable/user_guide/indexing.html#returning-a-view-versus-a-copy\n",
      "  map_['populacao'][39] = 92378000\n"
     ]
    }
   ],
   "source": [
    "map_['populacao'][39] = 92378000"
   ]
  },
  {
   "cell_type": "code",
   "execution_count": 45,
   "metadata": {},
   "outputs": [
    {
     "name": "stderr",
     "output_type": "stream",
     "text": [
      "C:\\Users\\manoe\\AppData\\Local\\Temp\\ipykernel_26352\\1624010759.py:1: SettingWithCopyWarning: \n",
      "A value is trying to be set on a copy of a slice from a DataFrame\n",
      "\n",
      "See the caveats in the documentation: https://pandas.pydata.org/pandas-docs/stable/user_guide/indexing.html#returning-a-view-versus-a-copy\n",
      "  map_['populacao'][40] = 96272259\n"
     ]
    }
   ],
   "source": [
    "map_['populacao'][40] = 96272259"
   ]
  },
  {
   "cell_type": "code",
   "execution_count": 46,
   "metadata": {},
   "outputs": [
    {
     "name": "stderr",
     "output_type": "stream",
     "text": [
      "C:\\Users\\manoe\\AppData\\Local\\Temp\\ipykernel_26352\\2086051804.py:1: SettingWithCopyWarning: \n",
      "A value is trying to be set on a copy of a slice from a DataFrame\n",
      "\n",
      "See the caveats in the documentation: https://pandas.pydata.org/pandas-docs/stable/user_guide/indexing.html#returning-a-view-versus-a-copy\n",
      "  map_['populacao'][50] = 4422397\n"
     ]
    }
   ],
   "source": [
    "map_['populacao'][50] = 4422397"
   ]
  },
  {
   "cell_type": "code",
   "execution_count": 47,
   "metadata": {},
   "outputs": [
    {
     "name": "stderr",
     "output_type": "stream",
     "text": [
      "C:\\Users\\manoe\\AppData\\Local\\Temp\\ipykernel_26352\\118681730.py:1: SettingWithCopyWarning: \n",
      "A value is trying to be set on a copy of a slice from a DataFrame\n",
      "\n",
      "See the caveats in the documentation: https://pandas.pydata.org/pandas-docs/stable/user_guide/indexing.html#returning-a-view-versus-a-copy\n",
      "  map_['populacao'][61] = 102334000\n"
     ]
    }
   ],
   "source": [
    "map_['populacao'][61] = 102334000"
   ]
  },
  {
   "cell_type": "code",
   "execution_count": 48,
   "metadata": {},
   "outputs": [
    {
     "name": "stderr",
     "output_type": "stream",
     "text": [
      "C:\\Users\\manoe\\AppData\\Local\\Temp\\ipykernel_26352\\3146970229.py:1: SettingWithCopyWarning: \n",
      "A value is trying to be set on a copy of a slice from a DataFrame\n",
      "\n",
      "See the caveats in the documentation: https://pandas.pydata.org/pandas-docs/stable/user_guide/indexing.html#returning-a-view-versus-a-copy\n",
      "  map_['populacao'][69] = 296711\n"
     ]
    }
   ],
   "source": [
    "map_['populacao'][69] = 296711"
   ]
  },
  {
   "cell_type": "code",
   "execution_count": 49,
   "metadata": {},
   "outputs": [
    {
     "name": "stderr",
     "output_type": "stream",
     "text": [
      "C:\\Users\\manoe\\AppData\\Local\\Temp\\ipykernel_26352\\1401618535.py:1: SettingWithCopyWarning: \n",
      "A value is trying to be set on a copy of a slice from a DataFrame\n",
      "\n",
      "See the caveats in the documentation: https://pandas.pydata.org/pandas-docs/stable/user_guide/indexing.html#returning-a-view-versus-a-copy\n",
      "  map_['populacao'][107] = 86463599\n"
     ]
    }
   ],
   "source": [
    "map_['populacao'][107] = 86463599"
   ]
  },
  {
   "cell_type": "code",
   "execution_count": 50,
   "metadata": {},
   "outputs": [
    {
     "name": "stderr",
     "output_type": "stream",
     "text": [
      "C:\\Users\\manoe\\AppData\\Local\\Temp\\ipykernel_26352\\129945363.py:1: SettingWithCopyWarning: \n",
      "A value is trying to be set on a copy of a slice from a DataFrame\n",
      "\n",
      "See the caveats in the documentation: https://pandas.pydata.org/pandas-docs/stable/user_guide/indexing.html#returning-a-view-versus-a-copy\n",
      "  map_['populacao'][121] = 23906070\n"
     ]
    }
   ],
   "source": [
    "map_['populacao'][121] = 23906070"
   ]
  },
  {
   "cell_type": "code",
   "execution_count": 51,
   "metadata": {},
   "outputs": [
    {
     "name": "stderr",
     "output_type": "stream",
     "text": [
      "C:\\Users\\manoe\\AppData\\Local\\Temp\\ipykernel_26352\\2433463719.py:1: SettingWithCopyWarning: \n",
      "A value is trying to be set on a copy of a slice from a DataFrame\n",
      "\n",
      "See the caveats in the documentation: https://pandas.pydata.org/pandas-docs/stable/user_guide/indexing.html#returning-a-view-versus-a-copy\n",
      "  map_['populacao'][123] = 51446201\n"
     ]
    }
   ],
   "source": [
    "map_['populacao'][123] = 51446201"
   ]
  },
  {
   "cell_type": "code",
   "execution_count": 52,
   "metadata": {},
   "outputs": [
    {
     "name": "stderr",
     "output_type": "stream",
     "text": [
      "C:\\Users\\manoe\\AppData\\Local\\Temp\\ipykernel_26352\\286994163.py:1: SettingWithCopyWarning: \n",
      "A value is trying to be set on a copy of a slice from a DataFrame\n",
      "\n",
      "See the caveats in the documentation: https://pandas.pydata.org/pandas-docs/stable/user_guide/indexing.html#returning-a-view-versus-a-copy\n",
      "  map_['populacao'][192] = 145934000\n"
     ]
    }
   ],
   "source": [
    "map_['populacao'][192] = 145934000"
   ]
  },
  {
   "cell_type": "code",
   "execution_count": 53,
   "metadata": {},
   "outputs": [
    {
     "name": "stderr",
     "output_type": "stream",
     "text": [
      "C:\\Users\\manoe\\AppData\\Local\\Temp\\ipykernel_26352\\1915110379.py:1: SettingWithCopyWarning: \n",
      "A value is trying to be set on a copy of a slice from a DataFrame\n",
      "\n",
      "See the caveats in the documentation: https://pandas.pydata.org/pandas-docs/stable/user_guide/indexing.html#returning-a-view-versus-a-copy\n",
      "  map_['populacao'][225] = 85043000\n"
     ]
    }
   ],
   "source": [
    "map_['populacao'][225] = 85043000"
   ]
  },
  {
   "cell_type": "code",
   "execution_count": 54,
   "metadata": {},
   "outputs": [
    {
     "name": "stderr",
     "output_type": "stream",
     "text": [
      "C:\\Users\\manoe\\AppData\\Local\\Temp\\ipykernel_26352\\2305037945.py:1: SettingWithCopyWarning: \n",
      "A value is trying to be set on a copy of a slice from a DataFrame\n",
      "\n",
      "See the caveats in the documentation: https://pandas.pydata.org/pandas-docs/stable/user_guide/indexing.html#returning-a-view-versus-a-copy\n",
      "  map_['populacao'][229] = 64256720\n"
     ]
    }
   ],
   "source": [
    "map_['populacao'][229] = 64256720"
   ]
  },
  {
   "cell_type": "code",
   "execution_count": 55,
   "metadata": {},
   "outputs": [
    {
     "name": "stderr",
     "output_type": "stream",
     "text": [
      "C:\\Users\\manoe\\AppData\\Local\\Temp\\ipykernel_26352\\4000565917.py:1: SettingWithCopyWarning: \n",
      "A value is trying to be set on a copy of a slice from a DataFrame\n",
      "\n",
      "See the caveats in the documentation: https://pandas.pydata.org/pandas-docs/stable/user_guide/indexing.html#returning-a-view-versus-a-copy\n",
      "  map_['populacao'][238] = 29615574\n"
     ]
    }
   ],
   "source": [
    "map_['populacao'][238] = 29615574"
   ]
  },
  {
   "cell_type": "code",
   "execution_count": 56,
   "metadata": {},
   "outputs": [
    {
     "name": "stderr",
     "output_type": "stream",
     "text": [
      "C:\\Users\\manoe\\AppData\\Local\\Temp\\ipykernel_26352\\3294729301.py:1: SettingWithCopyWarning: \n",
      "A value is trying to be set on a copy of a slice from a DataFrame\n",
      "\n",
      "See the caveats in the documentation: https://pandas.pydata.org/pandas-docs/stable/user_guide/indexing.html#returning-a-view-versus-a-copy\n",
      "  map_['populacao'][242] = 2682669\n"
     ]
    }
   ],
   "source": [
    "map_['populacao'][242] = 2682669"
   ]
  },
  {
   "cell_type": "code",
   "execution_count": 57,
   "metadata": {},
   "outputs": [
    {
     "name": "stderr",
     "output_type": "stream",
     "text": [
      "C:\\Users\\manoe\\AppData\\Local\\Temp\\ipykernel_26352\\3116550743.py:1: SettingWithCopyWarning: \n",
      "A value is trying to be set on a copy of a slice from a DataFrame\n",
      "\n",
      "See the caveats in the documentation: https://pandas.pydata.org/pandas-docs/stable/user_guide/indexing.html#returning-a-view-versus-a-copy\n",
      "  map_['populacao'][110] = 23740424\n"
     ]
    }
   ],
   "source": [
    "map_['populacao'][110] = 23740424"
   ]
  },
  {
   "cell_type": "markdown",
   "metadata": {},
   "source": [
    "##### Plotando o mapa"
   ]
  },
  {
   "cell_type": "code",
   "execution_count": 70,
   "metadata": {},
   "outputs": [
    {
     "data": {
      "text/plain": [
       "Text(0.5, 1.0, 'População')"
      ]
     },
     "execution_count": 70,
     "metadata": {},
     "output_type": "execute_result"
    },
    {
     "data": {
      "image/png": "[encoded data removed]",
      "text/plain": [
       "<Figure size 1080x576 with 2 Axes>"
      ]
     },
     "metadata": {
      "needs_background": "light"
     },
     "output_type": "display_data"
    }
   ],
   "source": [
    "fig, ax = plt.subplots(figsize = (15,8))\n",
    "sm = plt.cm.ScalarMappable(cmap=\"viridis_r\", norm=plt.Normalize(vmin=map_['populacao'].min(), vmax=map_['populacao'].max()))\n",
    "cbar = fig.colorbar(sm)\n",
    "map_.plot('populacao', ax=ax, cmap=\"viridis_r\")\n",
    "plt.title('População', fontsize = \"20\", style = \"italic\", loc = \"center\", pad = 30)"
   ]
  },
  {
   "cell_type": "markdown",
   "metadata": {},
   "source": []
  }
 ],
 "metadata": {
  "kernelspec": {
   "display_name": "Python 3.10.4 ('geo_env')",
   "language": "python",
   "name": "python3"
  },
  "language_info": {
   "codemirror_mode": {
    "name": "ipython",
    "version": 3
   },
   "file_extension": ".py",
   "mimetype": "text/x-python",
   "name": "python",
   "nbconvert_exporter": "python",
   "pygments_lexer": "ipython3",
   "version": "3.10.4"
  },
  "orig_nbformat": 4,
  "vscode": {
   "interpreter": {
    "hash": "4fce7d454a33d8bc28ae2d85e446ad9173be0d34559302aac213124dd9c49c15"
   }
  }
 },
 "nbformat": 4,
 "nbformat_minor": 2
}
